{
 "cells": [
  {
   "cell_type": "markdown",
   "id": "3559e4bd",
   "metadata": {
    "papermill": {
     "duration": 0.003743,
     "end_time": "2023-06-01T22:59:32.488889",
     "exception": false,
     "start_time": "2023-06-01T22:59:32.485146",
     "status": "completed"
    },
    "tags": []
   },
   "source": [
    "### **The aim of this project is to try to create an AI model that based on classifier trees, is able to predict whether or not a patient of certain characteristics suffers from any heart disease or not**\n",
    "\n",
    "\n",
    "May, 2023"
   ]
  },
  {
   "cell_type": "code",
   "execution_count": 1,
   "id": "09838a4c",
   "metadata": {
    "execution": {
     "iopub.execute_input": "2023-06-01T22:59:32.497057Z",
     "iopub.status.busy": "2023-06-01T22:59:32.496660Z",
     "iopub.status.idle": "2023-06-01T22:59:32.740420Z",
     "shell.execute_reply": "2023-06-01T22:59:32.739621Z"
    },
    "papermill": {
     "duration": 0.250064,
     "end_time": "2023-06-01T22:59:32.742324",
     "exception": false,
     "start_time": "2023-06-01T22:59:32.492260",
     "status": "completed"
    },
    "tags": []
   },
   "outputs": [
    {
     "data": {
      "text/html": [
       "<div>\n",
       "<style scoped>\n",
       "    .dataframe tbody tr th:only-of-type {\n",
       "        vertical-align: middle;\n",
       "    }\n",
       "\n",
       "    .dataframe tbody tr th {\n",
       "        vertical-align: top;\n",
       "    }\n",
       "\n",
       "    .dataframe thead th {\n",
       "        text-align: right;\n",
       "    }\n",
       "</style>\n",
       "<table border=\"1\" class=\"dataframe\">\n",
       "  <thead>\n",
       "    <tr style=\"text-align: right;\">\n",
       "      <th></th>\n",
       "      <th>index</th>\n",
       "      <th>id</th>\n",
       "      <th>age</th>\n",
       "      <th>gender</th>\n",
       "      <th>height</th>\n",
       "      <th>weight</th>\n",
       "      <th>ap_hi</th>\n",
       "      <th>ap_lo</th>\n",
       "      <th>cholesterol</th>\n",
       "      <th>gluc</th>\n",
       "      <th>smoke</th>\n",
       "      <th>alco</th>\n",
       "      <th>active</th>\n",
       "      <th>cardio</th>\n",
       "    </tr>\n",
       "  </thead>\n",
       "  <tbody>\n",
       "    <tr>\n",
       "      <th>count</th>\n",
       "      <td>70000.000000</td>\n",
       "      <td>70000.000000</td>\n",
       "      <td>70000.000000</td>\n",
       "      <td>70000.000000</td>\n",
       "      <td>70000.000000</td>\n",
       "      <td>70000.000000</td>\n",
       "      <td>70000.000000</td>\n",
       "      <td>70000.000000</td>\n",
       "      <td>70000.000000</td>\n",
       "      <td>70000.000000</td>\n",
       "      <td>70000.000000</td>\n",
       "      <td>70000.000000</td>\n",
       "      <td>70000.000000</td>\n",
       "      <td>70000.000000</td>\n",
       "    </tr>\n",
       "    <tr>\n",
       "      <th>mean</th>\n",
       "      <td>34999.500000</td>\n",
       "      <td>49972.419900</td>\n",
       "      <td>19468.865814</td>\n",
       "      <td>1.349571</td>\n",
       "      <td>164.359229</td>\n",
       "      <td>74.205690</td>\n",
       "      <td>128.817286</td>\n",
       "      <td>96.630414</td>\n",
       "      <td>1.366871</td>\n",
       "      <td>1.226457</td>\n",
       "      <td>0.088129</td>\n",
       "      <td>0.053771</td>\n",
       "      <td>0.803729</td>\n",
       "      <td>0.499700</td>\n",
       "    </tr>\n",
       "    <tr>\n",
       "      <th>std</th>\n",
       "      <td>20207.403759</td>\n",
       "      <td>28851.302323</td>\n",
       "      <td>2467.251667</td>\n",
       "      <td>0.476838</td>\n",
       "      <td>8.210126</td>\n",
       "      <td>14.395757</td>\n",
       "      <td>154.011419</td>\n",
       "      <td>188.472530</td>\n",
       "      <td>0.680250</td>\n",
       "      <td>0.572270</td>\n",
       "      <td>0.283484</td>\n",
       "      <td>0.225568</td>\n",
       "      <td>0.397179</td>\n",
       "      <td>0.500003</td>\n",
       "    </tr>\n",
       "    <tr>\n",
       "      <th>min</th>\n",
       "      <td>0.000000</td>\n",
       "      <td>0.000000</td>\n",
       "      <td>10798.000000</td>\n",
       "      <td>1.000000</td>\n",
       "      <td>55.000000</td>\n",
       "      <td>10.000000</td>\n",
       "      <td>-150.000000</td>\n",
       "      <td>-70.000000</td>\n",
       "      <td>1.000000</td>\n",
       "      <td>1.000000</td>\n",
       "      <td>0.000000</td>\n",
       "      <td>0.000000</td>\n",
       "      <td>0.000000</td>\n",
       "      <td>0.000000</td>\n",
       "    </tr>\n",
       "    <tr>\n",
       "      <th>25%</th>\n",
       "      <td>17499.750000</td>\n",
       "      <td>25006.750000</td>\n",
       "      <td>17664.000000</td>\n",
       "      <td>1.000000</td>\n",
       "      <td>159.000000</td>\n",
       "      <td>65.000000</td>\n",
       "      <td>120.000000</td>\n",
       "      <td>80.000000</td>\n",
       "      <td>1.000000</td>\n",
       "      <td>1.000000</td>\n",
       "      <td>0.000000</td>\n",
       "      <td>0.000000</td>\n",
       "      <td>1.000000</td>\n",
       "      <td>0.000000</td>\n",
       "    </tr>\n",
       "    <tr>\n",
       "      <th>50%</th>\n",
       "      <td>34999.500000</td>\n",
       "      <td>50001.500000</td>\n",
       "      <td>19703.000000</td>\n",
       "      <td>1.000000</td>\n",
       "      <td>165.000000</td>\n",
       "      <td>72.000000</td>\n",
       "      <td>120.000000</td>\n",
       "      <td>80.000000</td>\n",
       "      <td>1.000000</td>\n",
       "      <td>1.000000</td>\n",
       "      <td>0.000000</td>\n",
       "      <td>0.000000</td>\n",
       "      <td>1.000000</td>\n",
       "      <td>0.000000</td>\n",
       "    </tr>\n",
       "    <tr>\n",
       "      <th>75%</th>\n",
       "      <td>52499.250000</td>\n",
       "      <td>74889.250000</td>\n",
       "      <td>21327.000000</td>\n",
       "      <td>2.000000</td>\n",
       "      <td>170.000000</td>\n",
       "      <td>82.000000</td>\n",
       "      <td>140.000000</td>\n",
       "      <td>90.000000</td>\n",
       "      <td>2.000000</td>\n",
       "      <td>1.000000</td>\n",
       "      <td>0.000000</td>\n",
       "      <td>0.000000</td>\n",
       "      <td>1.000000</td>\n",
       "      <td>1.000000</td>\n",
       "    </tr>\n",
       "    <tr>\n",
       "      <th>max</th>\n",
       "      <td>69999.000000</td>\n",
       "      <td>99999.000000</td>\n",
       "      <td>23713.000000</td>\n",
       "      <td>2.000000</td>\n",
       "      <td>250.000000</td>\n",
       "      <td>200.000000</td>\n",
       "      <td>16020.000000</td>\n",
       "      <td>11000.000000</td>\n",
       "      <td>3.000000</td>\n",
       "      <td>3.000000</td>\n",
       "      <td>1.000000</td>\n",
       "      <td>1.000000</td>\n",
       "      <td>1.000000</td>\n",
       "      <td>1.000000</td>\n",
       "    </tr>\n",
       "  </tbody>\n",
       "</table>\n",
       "</div>"
      ],
      "text/plain": [
       "              index            id           age        gender        height  \\\n",
       "count  70000.000000  70000.000000  70000.000000  70000.000000  70000.000000   \n",
       "mean   34999.500000  49972.419900  19468.865814      1.349571    164.359229   \n",
       "std    20207.403759  28851.302323   2467.251667      0.476838      8.210126   \n",
       "min        0.000000      0.000000  10798.000000      1.000000     55.000000   \n",
       "25%    17499.750000  25006.750000  17664.000000      1.000000    159.000000   \n",
       "50%    34999.500000  50001.500000  19703.000000      1.000000    165.000000   \n",
       "75%    52499.250000  74889.250000  21327.000000      2.000000    170.000000   \n",
       "max    69999.000000  99999.000000  23713.000000      2.000000    250.000000   \n",
       "\n",
       "             weight         ap_hi         ap_lo   cholesterol          gluc  \\\n",
       "count  70000.000000  70000.000000  70000.000000  70000.000000  70000.000000   \n",
       "mean      74.205690    128.817286     96.630414      1.366871      1.226457   \n",
       "std       14.395757    154.011419    188.472530      0.680250      0.572270   \n",
       "min       10.000000   -150.000000    -70.000000      1.000000      1.000000   \n",
       "25%       65.000000    120.000000     80.000000      1.000000      1.000000   \n",
       "50%       72.000000    120.000000     80.000000      1.000000      1.000000   \n",
       "75%       82.000000    140.000000     90.000000      2.000000      1.000000   \n",
       "max      200.000000  16020.000000  11000.000000      3.000000      3.000000   \n",
       "\n",
       "              smoke          alco        active        cardio  \n",
       "count  70000.000000  70000.000000  70000.000000  70000.000000  \n",
       "mean       0.088129      0.053771      0.803729      0.499700  \n",
       "std        0.283484      0.225568      0.397179      0.500003  \n",
       "min        0.000000      0.000000      0.000000      0.000000  \n",
       "25%        0.000000      0.000000      1.000000      0.000000  \n",
       "50%        0.000000      0.000000      1.000000      0.000000  \n",
       "75%        0.000000      0.000000      1.000000      1.000000  \n",
       "max        1.000000      1.000000      1.000000      1.000000  "
      ]
     },
     "execution_count": 1,
     "metadata": {},
     "output_type": "execute_result"
    }
   ],
   "source": [
    "# Setup\n",
    "\n",
    "import pandas as pd\n",
    "\n",
    "#Save filepath to variable for easier access :)\n",
    "factors_data_file_path = '../input/exploring-risk-factors-for-cardiovascular-diseas/heart_data.csv'\n",
    "\n",
    "# Read the data and store data in a DataFrame\n",
    "factors_data = pd.read_csv(factors_data_file_path)\n",
    "factors_data.describe()\n",
    "# factors_data.head()"
   ]
  },
  {
   "cell_type": "markdown",
   "id": "0471e9fe",
   "metadata": {
    "papermill": {
     "duration": 0.003437,
     "end_time": "2023-06-01T22:59:32.749460",
     "exception": false,
     "start_time": "2023-06-01T22:59:32.746023",
     "status": "completed"
    },
    "tags": []
   },
   "source": [
    "**Model Creation**"
   ]
  },
  {
   "cell_type": "code",
   "execution_count": 2,
   "id": "c0fac71d",
   "metadata": {
    "execution": {
     "iopub.execute_input": "2023-06-01T22:59:32.759134Z",
     "iopub.status.busy": "2023-06-01T22:59:32.758703Z",
     "iopub.status.idle": "2023-06-01T22:59:34.285391Z",
     "shell.execute_reply": "2023-06-01T22:59:34.284599Z"
    },
    "papermill": {
     "duration": 1.534624,
     "end_time": "2023-06-01T22:59:34.287597",
     "exception": false,
     "start_time": "2023-06-01T22:59:32.752973",
     "status": "completed"
    },
    "tags": []
   },
   "outputs": [
    {
     "data": {
      "text/html": [
       "<div>\n",
       "<style scoped>\n",
       "    .dataframe tbody tr th:only-of-type {\n",
       "        vertical-align: middle;\n",
       "    }\n",
       "\n",
       "    .dataframe tbody tr th {\n",
       "        vertical-align: top;\n",
       "    }\n",
       "\n",
       "    .dataframe thead th {\n",
       "        text-align: right;\n",
       "    }\n",
       "</style>\n",
       "<table border=\"1\" class=\"dataframe\">\n",
       "  <thead>\n",
       "    <tr style=\"text-align: right;\">\n",
       "      <th></th>\n",
       "      <th>age</th>\n",
       "      <th>gender</th>\n",
       "      <th>height</th>\n",
       "      <th>weight</th>\n",
       "      <th>ap_hi</th>\n",
       "      <th>ap_lo</th>\n",
       "      <th>cholesterol</th>\n",
       "      <th>gluc</th>\n",
       "      <th>smoke</th>\n",
       "      <th>alco</th>\n",
       "      <th>active</th>\n",
       "    </tr>\n",
       "  </thead>\n",
       "  <tbody>\n",
       "    <tr>\n",
       "      <th>0</th>\n",
       "      <td>50</td>\n",
       "      <td>2</td>\n",
       "      <td>168</td>\n",
       "      <td>62.0</td>\n",
       "      <td>110</td>\n",
       "      <td>80</td>\n",
       "      <td>1</td>\n",
       "      <td>1</td>\n",
       "      <td>0</td>\n",
       "      <td>0</td>\n",
       "      <td>1</td>\n",
       "    </tr>\n",
       "    <tr>\n",
       "      <th>1</th>\n",
       "      <td>55</td>\n",
       "      <td>1</td>\n",
       "      <td>156</td>\n",
       "      <td>85.0</td>\n",
       "      <td>140</td>\n",
       "      <td>90</td>\n",
       "      <td>3</td>\n",
       "      <td>1</td>\n",
       "      <td>0</td>\n",
       "      <td>0</td>\n",
       "      <td>1</td>\n",
       "    </tr>\n",
       "    <tr>\n",
       "      <th>2</th>\n",
       "      <td>51</td>\n",
       "      <td>1</td>\n",
       "      <td>165</td>\n",
       "      <td>64.0</td>\n",
       "      <td>130</td>\n",
       "      <td>70</td>\n",
       "      <td>3</td>\n",
       "      <td>1</td>\n",
       "      <td>0</td>\n",
       "      <td>0</td>\n",
       "      <td>0</td>\n",
       "    </tr>\n",
       "    <tr>\n",
       "      <th>3</th>\n",
       "      <td>48</td>\n",
       "      <td>2</td>\n",
       "      <td>169</td>\n",
       "      <td>82.0</td>\n",
       "      <td>150</td>\n",
       "      <td>100</td>\n",
       "      <td>1</td>\n",
       "      <td>1</td>\n",
       "      <td>0</td>\n",
       "      <td>0</td>\n",
       "      <td>1</td>\n",
       "    </tr>\n",
       "    <tr>\n",
       "      <th>4</th>\n",
       "      <td>47</td>\n",
       "      <td>1</td>\n",
       "      <td>156</td>\n",
       "      <td>56.0</td>\n",
       "      <td>100</td>\n",
       "      <td>60</td>\n",
       "      <td>1</td>\n",
       "      <td>1</td>\n",
       "      <td>0</td>\n",
       "      <td>0</td>\n",
       "      <td>0</td>\n",
       "    </tr>\n",
       "    <tr>\n",
       "      <th>...</th>\n",
       "      <td>...</td>\n",
       "      <td>...</td>\n",
       "      <td>...</td>\n",
       "      <td>...</td>\n",
       "      <td>...</td>\n",
       "      <td>...</td>\n",
       "      <td>...</td>\n",
       "      <td>...</td>\n",
       "      <td>...</td>\n",
       "      <td>...</td>\n",
       "      <td>...</td>\n",
       "    </tr>\n",
       "    <tr>\n",
       "      <th>69995</th>\n",
       "      <td>52</td>\n",
       "      <td>2</td>\n",
       "      <td>168</td>\n",
       "      <td>76.0</td>\n",
       "      <td>120</td>\n",
       "      <td>80</td>\n",
       "      <td>1</td>\n",
       "      <td>1</td>\n",
       "      <td>1</td>\n",
       "      <td>0</td>\n",
       "      <td>1</td>\n",
       "    </tr>\n",
       "    <tr>\n",
       "      <th>69996</th>\n",
       "      <td>61</td>\n",
       "      <td>1</td>\n",
       "      <td>158</td>\n",
       "      <td>126.0</td>\n",
       "      <td>140</td>\n",
       "      <td>90</td>\n",
       "      <td>2</td>\n",
       "      <td>2</td>\n",
       "      <td>0</td>\n",
       "      <td>0</td>\n",
       "      <td>1</td>\n",
       "    </tr>\n",
       "    <tr>\n",
       "      <th>69997</th>\n",
       "      <td>52</td>\n",
       "      <td>2</td>\n",
       "      <td>183</td>\n",
       "      <td>105.0</td>\n",
       "      <td>180</td>\n",
       "      <td>90</td>\n",
       "      <td>3</td>\n",
       "      <td>1</td>\n",
       "      <td>0</td>\n",
       "      <td>1</td>\n",
       "      <td>0</td>\n",
       "    </tr>\n",
       "    <tr>\n",
       "      <th>69998</th>\n",
       "      <td>61</td>\n",
       "      <td>1</td>\n",
       "      <td>163</td>\n",
       "      <td>72.0</td>\n",
       "      <td>135</td>\n",
       "      <td>80</td>\n",
       "      <td>1</td>\n",
       "      <td>2</td>\n",
       "      <td>0</td>\n",
       "      <td>0</td>\n",
       "      <td>0</td>\n",
       "    </tr>\n",
       "    <tr>\n",
       "      <th>69999</th>\n",
       "      <td>56</td>\n",
       "      <td>1</td>\n",
       "      <td>170</td>\n",
       "      <td>72.0</td>\n",
       "      <td>120</td>\n",
       "      <td>80</td>\n",
       "      <td>2</td>\n",
       "      <td>1</td>\n",
       "      <td>0</td>\n",
       "      <td>0</td>\n",
       "      <td>1</td>\n",
       "    </tr>\n",
       "  </tbody>\n",
       "</table>\n",
       "<p>70000 rows × 11 columns</p>\n",
       "</div>"
      ],
      "text/plain": [
       "       age  gender  height  weight  ap_hi  ap_lo  cholesterol  gluc  smoke  \\\n",
       "0       50       2     168    62.0    110     80            1     1      0   \n",
       "1       55       1     156    85.0    140     90            3     1      0   \n",
       "2       51       1     165    64.0    130     70            3     1      0   \n",
       "3       48       2     169    82.0    150    100            1     1      0   \n",
       "4       47       1     156    56.0    100     60            1     1      0   \n",
       "...    ...     ...     ...     ...    ...    ...          ...   ...    ...   \n",
       "69995   52       2     168    76.0    120     80            1     1      1   \n",
       "69996   61       1     158   126.0    140     90            2     2      0   \n",
       "69997   52       2     183   105.0    180     90            3     1      0   \n",
       "69998   61       1     163    72.0    135     80            1     2      0   \n",
       "69999   56       1     170    72.0    120     80            2     1      0   \n",
       "\n",
       "       alco  active  \n",
       "0         0       1  \n",
       "1         0       1  \n",
       "2         0       0  \n",
       "3         0       1  \n",
       "4         0       0  \n",
       "...     ...     ...  \n",
       "69995     0       1  \n",
       "69996     0       1  \n",
       "69997     1       0  \n",
       "69998     0       0  \n",
       "69999     0       1  \n",
       "\n",
       "[70000 rows x 11 columns]"
      ]
     },
     "execution_count": 2,
     "metadata": {},
     "output_type": "execute_result"
    }
   ],
   "source": [
    "# Data\n",
    "from sklearn.model_selection import train_test_split\n",
    "\n",
    "# Prediction target - We want to predict whether or not a certain individual suffers from cardiovascular heart diseases\n",
    "y = factors_data.cardio # Cardio is a boolean variable that indicates whether or not a person suffers any cardiovascular heart disease\n",
    "\n",
    "# Features - We are going to use all the other features.\n",
    "features = ['age', 'gender', 'height', 'weight', 'ap_hi', 'ap_lo', 'cholesterol', 'gluc', 'smoke', 'alco', 'active']\n",
    "factors_data['age'] = factors_data['age'].apply(lambda x: int(x/365)) # We are converting age into years since it came in days\n",
    "\n",
    "X = factors_data[features]\n",
    "train_X, val_X, train_y, val_y = train_test_split(X, y, random_state=9)\n",
    "X"
   ]
  },
  {
   "cell_type": "code",
   "execution_count": 3,
   "id": "bef687f9",
   "metadata": {
    "execution": {
     "iopub.execute_input": "2023-06-01T22:59:34.297675Z",
     "iopub.status.busy": "2023-06-01T22:59:34.297080Z",
     "iopub.status.idle": "2023-06-01T22:59:43.245255Z",
     "shell.execute_reply": "2023-06-01T22:59:43.244175Z"
    },
    "papermill": {
     "duration": 8.955999,
     "end_time": "2023-06-01T22:59:43.247667",
     "exception": false,
     "start_time": "2023-06-01T22:59:34.291668",
     "status": "completed"
    },
    "tags": []
   },
   "outputs": [
    {
     "name": "stdout",
     "output_type": "stream",
     "text": [
      "0.2959428571428571\n"
     ]
    }
   ],
   "source": [
    "# Fitting\n",
    "\n",
    "from sklearn.ensemble import RandomForestClassifier # This is a binary classification problem\n",
    "\n",
    "factors_forest_model = RandomForestClassifier(random_state = 9)\n",
    "factors_forest_model.fit(train_X, train_y)\n",
    "\n",
    "# Predicting\n",
    "factors_prediction = factors_forest_model.predict(val_X)\n",
    "\n",
    "# Validation\n",
    "from sklearn.metrics import mean_absolute_error\n",
    "\n",
    "print(mean_absolute_error(val_y, factors_prediction))"
   ]
  },
  {
   "cell_type": "markdown",
   "id": "65256a60",
   "metadata": {
    "papermill": {
     "duration": 0.003739,
     "end_time": "2023-06-01T22:59:43.255533",
     "exception": false,
     "start_time": "2023-06-01T22:59:43.251794",
     "status": "completed"
    },
    "tags": []
   },
   "source": [
    "**Data Visualization**"
   ]
  },
  {
   "cell_type": "code",
   "execution_count": 4,
   "id": "18453bc8",
   "metadata": {
    "execution": {
     "iopub.execute_input": "2023-06-01T22:59:43.265106Z",
     "iopub.status.busy": "2023-06-01T22:59:43.264693Z",
     "iopub.status.idle": "2023-06-01T22:59:43.573843Z",
     "shell.execute_reply": "2023-06-01T22:59:43.572771Z"
    },
    "papermill": {
     "duration": 0.316994,
     "end_time": "2023-06-01T22:59:43.576382",
     "exception": false,
     "start_time": "2023-06-01T22:59:43.259388",
     "status": "completed"
    },
    "tags": []
   },
   "outputs": [],
   "source": [
    "import seaborn as sns\n",
    "import matplotlib.pyplot as plt"
   ]
  },
  {
   "cell_type": "code",
   "execution_count": 5,
   "id": "1a0b52d4",
   "metadata": {
    "execution": {
     "iopub.execute_input": "2023-06-01T22:59:43.586961Z",
     "iopub.status.busy": "2023-06-01T22:59:43.586588Z",
     "iopub.status.idle": "2023-06-01T22:59:43.760377Z",
     "shell.execute_reply": "2023-06-01T22:59:43.758176Z"
    },
    "papermill": {
     "duration": 0.185353,
     "end_time": "2023-06-01T22:59:43.765964",
     "exception": false,
     "start_time": "2023-06-01T22:59:43.580611",
     "status": "completed"
    },
    "tags": []
   },
   "outputs": [
    {
     "data": {
      "image/png": "[encoded data removed]",
      "text/plain": [
       "<Figure size 640x480 with 1 Axes>"
      ]
     },
     "metadata": {},
     "output_type": "display_data"
    }
   ],
   "source": [
    "plt.pie(factors_data['cardio'].value_counts(), labels=['No', 'Yes'], autopct='%1.1f%%')\n",
    "plt.title('Proportion of patients with CVD over those who do not suffer from them')\n",
    "plt.show()"
   ]
  },
  {
   "cell_type": "markdown",
   "id": "66f178a8",
   "metadata": {
    "papermill": {
     "duration": 0.007569,
     "end_time": "2023-06-01T22:59:43.781386",
     "exception": false,
     "start_time": "2023-06-01T22:59:43.773817",
     "status": "completed"
    },
    "tags": []
   },
   "source": [
    "After realizing that data is equally distributed within patients that suffer from cardiovascular heart diseases and those who don't; we are going to both check for biased data and interesting patterns via some histograms."
   ]
  },
  {
   "cell_type": "code",
   "execution_count": 6,
   "id": "ac009e17",
   "metadata": {
    "execution": {
     "iopub.execute_input": "2023-06-01T22:59:43.799012Z",
     "iopub.status.busy": "2023-06-01T22:59:43.797906Z",
     "iopub.status.idle": "2023-06-01T22:59:44.391437Z",
     "shell.execute_reply": "2023-06-01T22:59:44.390043Z"
    },
    "papermill": {
     "duration": 0.606068,
     "end_time": "2023-06-01T22:59:44.395055",
     "exception": false,
     "start_time": "2023-06-01T22:59:43.788987",
     "status": "completed"
    },
    "tags": []
   },
   "outputs": [
    {
     "data": {
      "image/png": "[encoded data removed]",
      "text/plain": [
       "<Figure size 640x480 with 1 Axes>"
      ]
     },
     "metadata": {},
     "output_type": "display_data"
    }
   ],
   "source": [
    "sns.histplot(data=factors_data, x = 'age', hue = 'cardio')\n",
    "plt.title(\"Age of patients with and without CVD\")\n",
    "plt.xlabel(\"Age\")\n",
    "plt.show()"
   ]
  },
  {
   "cell_type": "markdown",
   "id": "5993518c",
   "metadata": {
    "papermill": {
     "duration": 0.004603,
     "end_time": "2023-06-01T22:59:44.406093",
     "exception": false,
     "start_time": "2023-06-01T22:59:44.401490",
     "status": "completed"
    },
    "tags": []
   },
   "source": [
    "The histogram reveals a notable increase in the prevalence of CVD from the age of 53 onwards, whilst indicating a lower occurrence among individuals under 40."
   ]
  },
  {
   "cell_type": "code",
   "execution_count": 7,
   "id": "5e95cf3a",
   "metadata": {
    "execution": {
     "iopub.execute_input": "2023-06-01T22:59:44.417590Z",
     "iopub.status.busy": "2023-06-01T22:59:44.416804Z",
     "iopub.status.idle": "2023-06-01T22:59:48.311161Z",
     "shell.execute_reply": "2023-06-01T22:59:48.310018Z"
    },
    "papermill": {
     "duration": 3.902725,
     "end_time": "2023-06-01T22:59:48.313572",
     "exception": false,
     "start_time": "2023-06-01T22:59:44.410847",
     "status": "completed"
    },
    "tags": []
   },
   "outputs": [
    {
     "data": {
      "image/png": "[encoded data removed]",
      "text/plain": [
       "<Figure size 640x480 with 1 Axes>"
      ]
     },
     "metadata": {},
     "output_type": "display_data"
    }
   ],
   "source": [
    "# From my humble point of view, it is more important to analyze BMI than weight and height separately\n",
    "factors_data['BMI'] = factors_data['weight'] / (factors_data['height'] / 100) ** 2\n",
    "\n",
    "sns.histplot(data=factors_data, x = 'BMI', hue = 'cardio')\n",
    "plt.title(\"BMI of patients with and without CVD\")\n",
    "plt.xlabel(\"BMI\")\n",
    "plt.xlim(0, 100)\n",
    "plt.show()"
   ]
  },
  {
   "cell_type": "markdown",
   "id": "ba414515",
   "metadata": {
    "papermill": {
     "duration": 0.006177,
     "end_time": "2023-06-01T22:59:48.325517",
     "exception": false,
     "start_time": "2023-06-01T22:59:48.319340",
     "status": "completed"
    },
    "tags": []
   },
   "source": [
    "The main tendency is for overweight, obese and extremely obese individuals to suffer from CVD"
   ]
  }
 ],
 "metadata": {
  "kernelspec": {
   "display_name": "Python 3",
   "language": "python",
   "name": "python3"
  },
  "language_info": {
   "codemirror_mode": {
    "name": "ipython",
    "version": 3
   },
   "file_extension": ".py",
   "mimetype": "text/x-python",
   "name": "python",
   "nbconvert_exporter": "python",
   "pygments_lexer": "ipython3",
   "version": "3.10.10"
  },
  "papermill": {
   "default_parameters": {},
   "duration": 27.057155,
   "end_time": "2023-06-01T22:59:49.453955",
   "environment_variables": {},
   "exception": null,
   "input_path": "__notebook__.ipynb",
   "output_path": "__notebook__.ipynb",
   "parameters": {},
   "start_time": "2023-06-01T22:59:22.396800",
   "version": "2.4.0"
  }
 },
 "nbformat": 4,
 "nbformat_minor": 5
}
